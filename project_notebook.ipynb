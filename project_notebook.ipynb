{
 "cells": [
  {
   "cell_type": "markdown",
   "metadata": {},
   "source": [
    "# ECE1524 Project: Routerless IP Networking \n",
    "\n",
    "Yida Wang\n",
    "\n",
    "Tianran Xu\n",
    "\n",
    "## README\n",
    "\n",
    "* Requirements:\n",
    "  * Python 3\n",
    "  * Jupyter Notebook\n",
    "  * Mininet\n",
    "  * ONOS\n",
    "* Important files:\n",
    "  * Abilene Topology and associated dataset (traffic matrices): http://totem.run.montefiore.ulg.ac.be/files/data/abilene-TM.tar.gz\n",
    "    (extract under ECE1524/ to ensure the Python program can run successfully)\n",
    "  * Jupyter Notebook HTML Report: ECE1524/project_notebook.html\n",
    "  * Jupyter Notebook: ECE1524/project_notebook.ipynb\n",
    "  * Abilene topology for Mininet: ECE1524/abilene.py"
   ]
  },
  {
   "cell_type": "code",
   "execution_count": 8,
   "metadata": {
    "collapsed": false
   },
   "outputs": [],
   "source": [
    "# setup\n",
    "\n",
    "from Parser import *\n",
    "\n",
    "graph = Parser.parse_topology(False)"
   ]
  },
  {
   "cell_type": "markdown",
   "metadata": {},
   "source": [
    "## Setup Mininet for Abilene\n",
    "\n",
    "To demonstrate the deployment, we are going to design flow rules based on the Valiant routing strategy are used for flow rules. ONOS is selected as the controller. Abilene topology for Mininet can be found in ECE1524/abilene.py.\n",
    "\n",
    "ONOS Core REST API is used for the interaction with the controller. We can use `GET /topology` to get overview of current topology."
   ]
  },
  {
   "cell_type": "code",
   "execution_count": 9,
   "metadata": {
    "collapsed": false
   },
   "outputs": [
    {
     "data": {
      "text/plain": [
       "{'clusters': 1, 'devices': 12, 'links': 30, 'time': 9741776547998}"
      ]
     },
     "execution_count": 9,
     "metadata": {},
     "output_type": "execute_result"
    }
   ],
   "source": [
    "import requests\n",
    "import json\n",
    "\n",
    "r = requests.get('http://127.0.0.1:8181/onos/v1/topology/', auth=('karaf', 'karaf'))\n",
    "r.json()"
   ]
  },
  {
   "cell_type": "markdown",
   "metadata": {},
   "source": [
    "## Deploy flow rules\n",
    "\n",
    "`POST /flows/{deviceId}` is used to creates and install a new flow rule for the specified device. "
   ]
  },
  {
   "cell_type": "code",
   "execution_count": 5,
   "metadata": {
    "collapsed": false
   },
   "outputs": [],
   "source": [
    "# setup\n",
    "node_mapping = [\n",
    "    \"of:0000000000000001\", # ATLA-M5\n",
    "    \"of:0000000000000002\", # ATLAng\n",
    "    \"of:0000000000000003\", # CHINng\n",
    "    \"of:0000000000000004\", # DNVRng\n",
    "    \"of:0000000000000005\", # HSTNng\n",
    "    \"of:0000000000000006\", # IPLSng\n",
    "    \"of:0000000000000007\", # KSCYng\n",
    "    \"of:0000000000000008\", # LOSAng\n",
    "    \"of:0000000000000009\", # NYCMng\n",
    "    \"of:000000000000000a\", # SNVAng\n",
    "    \"of:000000000000000b\", # STTLng\n",
    "    \"of:000000000000000c\"  # WASHng\n",
    "]\n",
    "\n",
    "mac_address_mapping = [\n",
    "    [\"00:00:00:00:00:01\", \"C0:01:2B:D4:00:00\"], # ATLA-M5\n",
    "    [\"00:00:00:00:00:02\", \"C0:02:26:4C:00:00\"], # ATLAng\n",
    "    [\"00:00:00:00:00:03\", \"C0:03:30:48:00:00\"], # CHINng\n",
    "    [\"00:00:00:00:00:04\", \"C0:04:0A:18:00:00\"], # DNVRng\n",
    "    [\"00:00:00:00:00:05\", \"C0:05:38:D0:00:00\"], # HSTNng\n",
    "    [\"00:00:00:00:00:06\", \"C0:06:2E:2C:00:00\"], # IPLSng\n",
    "    [\"00:00:00:00:00:07\", \"C0:07:08:28:00:00\"], # KSCYng\n",
    "    [\"00:00:00:00:00:08\"], # LOSAng\n",
    "    [\"00:00:00:00:00:09\"], # NYCMng\n",
    "    [\"00:00:00:00:00:0a\"], # SNVAng\n",
    "    [\"00:00:00:00:00:0b\"], # STTLng\n",
    "    [\"00:00:00:00:00:0c\"]  # WASHng\n",
    "]\n",
    "\n",
    "node_used_port = [1] * len(graph.link_list)\n",
    "link_tmp_dict = {}\n",
    "\n",
    "link_mapping = []\n",
    "\n",
    "for i in range(0, len(graph.link_list)):\n",
    "    link_mapping.append(\n",
    "        {\"src\": {\"port\": \"\", \"device\": \"\"}, \n",
    "         \"dst\": {\"port\": \"\", \"device\": \"\"}})\n",
    "    link_from = graph.node_list.index(graph.link_list[i].link_from)\n",
    "    link_mapping[i][\"src\"][\"device\"] = node_mapping[link_from]\n",
    "    \n",
    "    link_to = graph.node_list.index(graph.link_list[i].link_to)\n",
    "    link_mapping[i][\"dst\"][\"device\"] = node_mapping[link_to]\n",
    "    \n",
    "    if (link_to, link_from) not in link_tmp_dict:\n",
    "        # assign port to node based on the ONOS mechanism\n",
    "        node_used_port[link_from] += 1\n",
    "        node_used_port[link_to] += 1\n",
    "        \n",
    "        link_mapping[i][\"src\"][\"port\"] = str(node_used_port[link_from])\n",
    "        link_mapping[i][\"dst\"][\"port\"] = str(node_used_port[link_to])\n",
    "        link_tmp_dict[(link_from, link_to)] = (str(node_used_port[link_from]), str(node_used_port[link_to]))\n",
    "    else:\n",
    "        link_mapping[i][\"src\"][\"port\"] = link_tmp_dict[(link_to, link_from)][1]\n",
    "        link_mapping[i][\"dst\"][\"port\"] = link_tmp_dict[(link_to, link_from)][0]\n",
    "\n",
    "# install flow rules\n",
    "for i in range(0, len(graph.node_list)):\n",
    "    src = graph.node_list[i]\n",
    "    # Valiant routing strategy\n",
    "    metric, prev = graph.shortest_path_valiant(src)\n",
    "    for j in range(0, len(graph.node_list)):\n",
    "        if i != j:\n",
    "            path = []\n",
    "            hop = graph.node_list[j]\n",
    "            while hop != src:\n",
    "                link_index = graph.link_list.index(graph.find_link(prev[hop], hop))\n",
    "                path.append(link_index)\n",
    "                hop = prev[hop]\n",
    "            for l in range(0, len(path)):\n",
    "                if l == len(path) - 1:\n",
    "                    # src\n",
    "                    for x in mac_address_mapping[i]:\n",
    "                        for y in mac_address_mapping[j]:\n",
    "                            if mac_address_mapping[i].index(x) == 0:\n",
    "                                port = 1\n",
    "                            else:\n",
    "                                # GNS3 router\n",
    "                                port = node_used_port[i] + 1\n",
    "                            flow = {\"isPermanent\": \"true\",\n",
    "                                 \"priority\": 50000,\n",
    "                                 \"timeout\": 0,\n",
    "                                 \"selector\": \n",
    "                                     {\"criteria\": \n",
    "                                        [{\"type\": \"IN_PORT\", \"port\": port}, \n",
    "                                         {\"type\": \"ETH_DST\", \"mac\": y}, \n",
    "                                         {\"type\": \"ETH_SRC\", \"mac\": x}]},\n",
    "                                 \"treatment\":\n",
    "                                     {\"instructions\": [{\"type\": \"OUTPUT\", \"port\":\n",
    "                                                        link_mapping[path[l]][\"src\"][\"port\"]}]}}\n",
    "                            requests.post('http://127.0.0.1:8181/onos/v1/flows/' +\\\n",
    "                                          link_mapping[path[l]][\"src\"][\"device\"], \n",
    "                                          data=json.dumps(flow), auth=('karaf', 'karaf'))\n",
    "                    \n",
    "                if l == 0:\n",
    "                    # dst\n",
    "                    for x in mac_address_mapping[i]:\n",
    "                        for y in mac_address_mapping[j]:\n",
    "                            if mac_address_mapping[j].index(y) == 0:\n",
    "                                port = 1\n",
    "                            else:\n",
    "                                # GNS3 router\n",
    "                                port = node_used_port[j] + 1\n",
    "                            flow = {\"isPermanent\": \"true\",\n",
    "                                 \"priority\": 50000,\n",
    "                                 \"timeout\": 0,\n",
    "                                 \"selector\": \n",
    "                                     {\"criteria\": \n",
    "                                        [{\"type\": \"IN_PORT\", \"port\": link_mapping[path[l]][\"dst\"][\"port\"]}, \n",
    "                                         {\"type\": \"ETH_DST\", \"mac\": y}, \n",
    "                                         {\"type\": \"ETH_SRC\", \"mac\": x}]},\n",
    "                                 \"treatment\":\n",
    "                                     {\"instructions\": [{\"type\": \"OUTPUT\", \"port\": port}]}}\n",
    "                            requests.post('http://127.0.0.1:8181/onos/v1/flows/' +\\\n",
    "                                          link_mapping[path[l]][\"dst\"][\"device\"], \n",
    "                                          data=json.dumps(flow), auth=('karaf', 'karaf')) \n",
    "                            \n",
    "                else:\n",
    "                    for x in mac_address_mapping[i]:\n",
    "                        for y in mac_address_mapping[j]:\n",
    "                            flow = {\"isPermanent\": \"true\",\n",
    "                                 \"priority\": 50000,\n",
    "                                 \"timeout\": 0,\n",
    "                                 \"selector\": \n",
    "                                     {\"criteria\": \n",
    "                                        [{\"type\": \"IN_PORT\", \"port\": link_mapping[path[l]][\"dst\"][\"port\"]}, \n",
    "                                         {\"type\": \"ETH_DST\", \"mac\": y}, \n",
    "                                         {\"type\": \"ETH_SRC\", \"mac\": x}]},\n",
    "                                 \"treatment\":\n",
    "                                     {\"instructions\": [{\"type\": \"OUTPUT\",\n",
    "                                                        \"port\": link_mapping[path[l - 1]][\"src\"][\"port\"]}]}}\n",
    "                            requests.post('http://127.0.0.1:8181/onos/v1/flows/' + \\\n",
    "                                          link_mapping[path[l - 1]][\"src\"][\"device\"], \n",
    "                                          data=json.dumps(flow), auth=('karaf', 'karaf'))\n"
   ]
  },
  {
   "cell_type": "markdown",
   "metadata": {
    "collapsed": false,
    "scrolled": true
   },
   "source": [
    "We can query all flow rules in the system using `GET /flows` to ensure all flows are correctly installed. We can also observe that 'packets' and 'bytes' from the response keep incrementing as we send traffic between the nodes, which confirms the flow rules are actually used."
   ]
  },
  {
   "cell_type": "code",
   "execution_count": null,
   "metadata": {
    "collapsed": false,
    "scrolled": false
   },
   "outputs": [],
   "source": [
    "r = requests.get('http://127.0.0.1:8181/onos/v1/flows/', auth=('karaf', 'karaf'))\n",
    "r.json()"
   ]
  }
 ],
 "metadata": {
  "kernelspec": {
   "display_name": "Python 3",
   "language": "python",
   "name": "python3"
  },
  "language_info": {
   "codemirror_mode": {
    "name": "ipython",
    "version": 3
   },
   "file_extension": ".py",
   "mimetype": "text/x-python",
   "name": "python",
   "nbconvert_exporter": "python",
   "pygments_lexer": "ipython3",
   "version": "3.4.3"
  }
 },
 "nbformat": 4,
 "nbformat_minor": 0
}
