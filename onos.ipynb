{
 "cells": [
  {
   "cell_type": "code",
   "execution_count": null,
   "metadata": {
    "collapsed": false
   },
   "outputs": [],
   "source": [
    "import requests\n",
    "import json\n",
    "\n",
    "s1_flow1 = {\"isPermanent\": \"true\",\n",
    "           \"priority\": 10,\n",
    "           \"timeout\": 0,\n",
    "           \"selector\": \n",
    "               {\"criteria\": \n",
    "                    [{\"type\": \"IN_PORT\", \"port\": 1}, \n",
    "                     {\"type\": \"ETH_DST\", \"mac\": \"00:00:00:00:00:02\"}, \n",
    "                     {\"type\": \"ETH_SRC\", \"mac\": \"00:00:00:00:00:01\"}]},\n",
    "           \"treatment\": \n",
    "               {\"instructions\": \n",
    "                    [{\"type\": \"OUTPUT\", \"port\": 2}]},\n",
    "          }\n",
    "\n",
    "s1_flow2 = {\"isPermanent\": \"true\",\n",
    "           \"priority\": 10,\n",
    "           \"timeout\": 0,\n",
    "           \"selector\": \n",
    "               {\"criteria\": \n",
    "                    [{\"type\": \"ETH_DST\", \"mac\": \"00:00:00:00:00:01\"}, \n",
    "                     {\"type\": \"ETH_SRC\", \"mac\": \"00:00:00:00:00:02\"}]},\n",
    "           \"treatment\": \n",
    "               {\"instructions\": \n",
    "                    [{\"type\": \"OUTPUT\", \"port\": 1}]},\n",
    "          }\n",
    "\n",
    "s2_flow1 = {\"isPermanent\": \"true\",\n",
    "           \"priority\": 10,\n",
    "           \"timeout\": 0,\n",
    "           \"selector\": \n",
    "               {\"criteria\": \n",
    "                    [{\"type\": \"IN_PORT\", \"port\": 1}, \n",
    "                     {\"type\": \"ETH_DST\", \"mac\": \"00:00:00:00:00:01\"}, \n",
    "                     {\"type\": \"ETH_SRC\", \"mac\": \"00:00:00:00:00:02\"}]},\n",
    "           \"treatment\": \n",
    "               {\"instructions\": \n",
    "                    [{\"type\": \"OUTPUT\", \"port\": 2}]},\n",
    "          }\n",
    "\n",
    "s2_flow2 = {\"isPermanent\": \"true\",\n",
    "           \"priority\": 10,\n",
    "           \"timeout\": 0,\n",
    "           \"selector\": \n",
    "               {\"criteria\": \n",
    "                    [{\"type\": \"IN_PORT\", \"port\": 2}, \n",
    "                     {\"type\": \"ETH_DST\", \"mac\": \"00:00:00:00:00:02\"}, \n",
    "                     {\"type\": \"ETH_SRC\", \"mac\": \"00:00:00:00:00:01\"}]},\n",
    "           \"treatment\": \n",
    "               {\"instructions\": \n",
    "                    [{\"type\": \"OUTPUT\", \"port\": 1}]},\n",
    "          }\n",
    "\n",
    "r = requests.post('http://127.0.0.1:8181/onos/v1/flows/of:0000000000000001', \n",
    "                  data=json.dumps(s1_flow1), auth=('karaf', 'karaf'))\n",
    "r = requests.post('http://127.0.0.1:8181/onos/v1/flows/of:0000000000000001', \n",
    "                  data=json.dumps(s1_flow2), auth=('karaf', 'karaf'))\n",
    "\n",
    "r = requests.post('http://127.0.0.1:8181/onos/v1/flows/of:0000000000000002', \n",
    "                  data=json.dumps(s2_flow1), auth=('karaf', 'karaf'))\n",
    "r = requests.post('http://127.0.0.1:8181/onos/v1/flows/of:0000000000000002', \n",
    "                  data=json.dumps(s2_flow2), auth=('karaf', 'karaf'))\n"
   ]
  },
  {
   "cell_type": "code",
   "execution_count": null,
   "metadata": {
    "collapsed": true
   },
   "outputs": [],
   "source": []
  },
  {
   "cell_type": "code",
   "execution_count": null,
   "metadata": {
    "collapsed": true
   },
   "outputs": [],
   "source": []
  },
  {
   "cell_type": "code",
   "execution_count": null,
   "metadata": {
    "collapsed": true
   },
   "outputs": [],
   "source": []
  }
 ],
 "metadata": {
  "kernelspec": {
   "display_name": "Python 3",
   "language": "python",
   "name": "python3"
  },
  "language_info": {
   "codemirror_mode": {
    "name": "ipython",
    "version": 3
   },
   "file_extension": ".py",
   "mimetype": "text/x-python",
   "name": "python",
   "nbconvert_exporter": "python",
   "pygments_lexer": "ipython3",
   "version": "3.4.3"
  }
 },
 "nbformat": 4,
 "nbformat_minor": 0
}
